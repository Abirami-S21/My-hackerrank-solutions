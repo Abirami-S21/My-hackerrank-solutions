{
 "cells": [
  {
   "cell_type": "markdown",
   "metadata": {},
   "source": [
    "Problem 1 Bot saves princess"
   ]
  },
  {
   "cell_type": "code",
   "execution_count": 1,
   "metadata": {},
   "outputs": [
    {
     "name": "stdout",
     "output_type": "stream",
     "text": [
      "3\n",
      "---\n",
      "-m-\n",
      "p--\n",
      "DOWN\n",
      "LEFT\n"
     ]
    }
   ],
   "source": [
    "#!/usr/bin/python\n",
    "\n",
    "#Define the function to rescue the princess\n",
    "def displayPathtoPrincess(n,grid):\n",
    "#print all the moves here\n",
    "\n",
    "    if (grid[int(n/2)][int(n/2)] == 'm'):\n",
    "        x=int(n/2)\n",
    "        y=int(n/2)\n",
    "        if (grid[0][0] == 'p'):\n",
    "           # print('The princess is in the top left corner')\n",
    "            for g in range(0,x):\n",
    "                print('UP')\n",
    "            for g in range(0,y):\n",
    "                print('LEFT')\n",
    "        elif (grid[0][n-1] == 'p'):\n",
    "           # print('The princess is in the top right corner')\n",
    "            for g in range(0,x):\n",
    "                print('UP')\n",
    "            for g in range(0,y):\n",
    "                print('RIGHT')\n",
    "        elif (grid[n-1][0] == 'p'):\n",
    "            #print('The princess is in the bottom left corner')\n",
    "            for g in range(0,x):\n",
    "                print('DOWN')\n",
    "            for g in range(0,y):\n",
    "                print('LEFT')  \n",
    "        elif (grid[n-1][n-1] == 'p'):\n",
    "            #print('The princess is in the bottom right corner')\n",
    "            for g in range(0,x):\n",
    "                print('DOWN')\n",
    "            for g in range(0,y):\n",
    "                print('RIGHT')\n",
    "        else:\n",
    "            print('The princess is not in any one of the four corners of the square grid')\n",
    "    \n",
    "    else:\n",
    "        print('The bot is not in the center of the grid')\n",
    "\n",
    "#To get an odd integer as input 3<=n<100\n",
    "#print('Input the size of the grid between 2 and 100 and is an odd integer')\n",
    "n = int(input())        \n",
    "\n",
    "grid = [] \n",
    "for i in range(0, n): \n",
    "    grid.append(input().strip())\n",
    "\n",
    "displayPathtoPrincess(n,grid)"
   ]
  },
  {
   "cell_type": "markdown",
   "metadata": {},
   "source": [
    "Problem 2 Bot saves princess"
   ]
  },
  {
   "cell_type": "code",
   "execution_count": 2,
   "metadata": {},
   "outputs": [
    {
     "name": "stdout",
     "output_type": "stream",
     "text": [
      "5\n",
      "2 3\n",
      "-----\n",
      "-----\n",
      "p--m-\n",
      "-----\n",
      "-----\n",
      "LEFT\n"
     ]
    }
   ],
   "source": [
    "def nextMove(n,r,c,grid):\n",
    "    for i in range(0,n):\n",
    "        for j in range(0,n):\n",
    "            if(grid[i][j] == 'p'):\n",
    "                u=i\n",
    "                v=j\n",
    "    if (u<r):\n",
    "        out = 'UP'\n",
    "    elif(u>r):\n",
    "        out = 'DOWN'\n",
    "    else:\n",
    "        if(v<c):\n",
    "            out = 'LEFT'\n",
    "        else:\n",
    "            out = 'RIGHT'\n",
    "        \n",
    "\n",
    "    return out\n",
    "\n",
    "n = int(input())\n",
    "r,c = [int(i) for i in input().strip().split()]\n",
    "grid = []\n",
    "for i in range(0, n):\n",
    "    grid.append(input())\n",
    "\n",
    "print(nextMove(n,r,c,grid))"
   ]
  },
  {
   "cell_type": "code",
   "execution_count": null,
   "metadata": {},
   "outputs": [],
   "source": []
  }
 ],
 "metadata": {
  "kernelspec": {
   "display_name": "Python 3",
   "language": "python",
   "name": "python3"
  },
  "language_info": {
   "codemirror_mode": {
    "name": "ipython",
    "version": 3
   },
   "file_extension": ".py",
   "mimetype": "text/x-python",
   "name": "python",
   "nbconvert_exporter": "python",
   "pygments_lexer": "ipython3",
   "version": "3.7.6"
  }
 },
 "nbformat": 4,
 "nbformat_minor": 4
}
